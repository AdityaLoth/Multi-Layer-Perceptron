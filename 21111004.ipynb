{
 "cells": [
  {
   "cell_type": "code",
   "execution_count": 1,
   "metadata": {
    "id": "Xt6cvHEo8uNA"
   },
   "outputs": [],
   "source": [
    "import numpy as np\n",
    "import pandas as pd\n",
    "import matplotlib.pyplot as plt\n",
    "\n",
    "import math\n",
    "import random\n"
   ]
  },
  {
   "cell_type": "markdown",
   "metadata": {},
   "source": [
    "# Q1"
   ]
  },
  {
   "cell_type": "code",
   "execution_count": 3,
   "metadata": {
    "colab": {
     "base_uri": "https://localhost:8080/"
    },
    "id": "g5WOAQOf23kf",
    "outputId": "19a020f2-5f55-4d5e-eacb-61fc57f00c9b"
   },
   "outputs": [
    {
     "data": {
      "text/plain": [
       "array([[[[ 59,  62,  63],\n",
       "         [ 43,  46,  45],\n",
       "         [ 50,  48,  43],\n",
       "         ...,\n",
       "         [158, 132, 108],\n",
       "         [152, 125, 102],\n",
       "         [148, 124, 103]],\n",
       "\n",
       "        [[ 16,  20,  20],\n",
       "         [  0,   0,   0],\n",
       "         [ 18,   8,   0],\n",
       "         ...,\n",
       "         [123,  88,  55],\n",
       "         [119,  83,  50],\n",
       "         [122,  87,  57]],\n",
       "\n",
       "        [[ 25,  24,  21],\n",
       "         [ 16,   7,   0],\n",
       "         [ 49,  27,   8],\n",
       "         ...,\n",
       "         [118,  84,  50],\n",
       "         [120,  84,  50],\n",
       "         [109,  73,  42]],\n",
       "\n",
       "        ...,\n",
       "\n",
       "        [[208, 170,  96],\n",
       "         [201, 153,  34],\n",
       "         [198, 161,  26],\n",
       "         ...,\n",
       "         [160, 133,  70],\n",
       "         [ 56,  31,   7],\n",
       "         [ 53,  34,  20]],\n",
       "\n",
       "        [[180, 139,  96],\n",
       "         [173, 123,  42],\n",
       "         [186, 144,  30],\n",
       "         ...,\n",
       "         [184, 148,  94],\n",
       "         [ 97,  62,  34],\n",
       "         [ 83,  53,  34]],\n",
       "\n",
       "        [[177, 144, 116],\n",
       "         [168, 129,  94],\n",
       "         [179, 142,  87],\n",
       "         ...,\n",
       "         [216, 184, 140],\n",
       "         [151, 118,  84],\n",
       "         [123,  92,  72]]],\n",
       "\n",
       "\n",
       "       [[[154, 177, 187],\n",
       "         [126, 137, 136],\n",
       "         [105, 104,  95],\n",
       "         ...,\n",
       "         [ 91,  95,  71],\n",
       "         [ 87,  90,  71],\n",
       "         [ 79,  81,  70]],\n",
       "\n",
       "        [[140, 160, 169],\n",
       "         [145, 153, 154],\n",
       "         [125, 125, 118],\n",
       "         ...,\n",
       "         [ 96,  99,  78],\n",
       "         [ 77,  80,  62],\n",
       "         [ 71,  73,  61]],\n",
       "\n",
       "        [[140, 155, 164],\n",
       "         [139, 146, 149],\n",
       "         [115, 115, 112],\n",
       "         ...,\n",
       "         [ 79,  82,  64],\n",
       "         [ 68,  70,  55],\n",
       "         [ 67,  69,  55]],\n",
       "\n",
       "        ...,\n",
       "\n",
       "        [[175, 167, 166],\n",
       "         [156, 154, 160],\n",
       "         [154, 160, 170],\n",
       "         ...,\n",
       "         [ 42,  34,  36],\n",
       "         [ 61,  53,  57],\n",
       "         [ 93,  83,  91]],\n",
       "\n",
       "        [[165, 154, 128],\n",
       "         [156, 152, 130],\n",
       "         [159, 161, 142],\n",
       "         ...,\n",
       "         [103,  93,  96],\n",
       "         [123, 114, 120],\n",
       "         [131, 121, 131]],\n",
       "\n",
       "        [[163, 148, 120],\n",
       "         [158, 148, 122],\n",
       "         [163, 156, 133],\n",
       "         ...,\n",
       "         [143, 133, 139],\n",
       "         [143, 134, 142],\n",
       "         [143, 133, 144]]],\n",
       "\n",
       "\n",
       "       [[[255, 255, 255],\n",
       "         [253, 253, 253],\n",
       "         [253, 253, 253],\n",
       "         ...,\n",
       "         [253, 253, 253],\n",
       "         [253, 253, 253],\n",
       "         [253, 253, 253]],\n",
       "\n",
       "        [[255, 255, 255],\n",
       "         [255, 255, 255],\n",
       "         [255, 255, 255],\n",
       "         ...,\n",
       "         [255, 255, 255],\n",
       "         [255, 255, 255],\n",
       "         [255, 255, 255]],\n",
       "\n",
       "        [[255, 255, 255],\n",
       "         [254, 254, 254],\n",
       "         [254, 254, 254],\n",
       "         ...,\n",
       "         [254, 254, 254],\n",
       "         [254, 254, 254],\n",
       "         [254, 254, 254]],\n",
       "\n",
       "        ...,\n",
       "\n",
       "        [[113, 120, 112],\n",
       "         [111, 118, 111],\n",
       "         [105, 112, 106],\n",
       "         ...,\n",
       "         [ 72,  81,  80],\n",
       "         [ 72,  80,  79],\n",
       "         [ 72,  80,  79]],\n",
       "\n",
       "        [[111, 118, 110],\n",
       "         [104, 111, 104],\n",
       "         [ 99, 106,  98],\n",
       "         ...,\n",
       "         [ 68,  75,  73],\n",
       "         [ 70,  76,  75],\n",
       "         [ 78,  84,  82]],\n",
       "\n",
       "        [[106, 113, 105],\n",
       "         [ 99, 106,  98],\n",
       "         [ 95, 102,  94],\n",
       "         ...,\n",
       "         [ 78,  85,  83],\n",
       "         [ 79,  85,  83],\n",
       "         [ 80,  86,  84]]],\n",
       "\n",
       "\n",
       "       ...,\n",
       "\n",
       "\n",
       "       [[[ 35, 178, 235],\n",
       "         [ 40, 176, 239],\n",
       "         [ 42, 176, 241],\n",
       "         ...,\n",
       "         [ 99, 177, 219],\n",
       "         [ 79, 147, 197],\n",
       "         [ 89, 148, 189]],\n",
       "\n",
       "        [[ 57, 182, 234],\n",
       "         [ 44, 184, 250],\n",
       "         [ 50, 183, 240],\n",
       "         ...,\n",
       "         [156, 182, 200],\n",
       "         [141, 177, 206],\n",
       "         [116, 149, 175]],\n",
       "\n",
       "        [[ 98, 197, 237],\n",
       "         [ 64, 189, 252],\n",
       "         [ 69, 192, 245],\n",
       "         ...,\n",
       "         [188, 195, 206],\n",
       "         [119, 135, 147],\n",
       "         [ 61,  79,  90]],\n",
       "\n",
       "        ...,\n",
       "\n",
       "        [[ 73,  79,  77],\n",
       "         [ 53,  63,  68],\n",
       "         [ 54,  68,  80],\n",
       "         ...,\n",
       "         [ 17,  40,  64],\n",
       "         [ 21,  36,  51],\n",
       "         [ 33,  48,  49]],\n",
       "\n",
       "        [[ 61,  68,  75],\n",
       "         [ 55,  70,  86],\n",
       "         [ 57,  79, 103],\n",
       "         ...,\n",
       "         [ 24,  48,  72],\n",
       "         [ 17,  35,  53],\n",
       "         [  7,  23,  32]],\n",
       "\n",
       "        [[ 44,  56,  73],\n",
       "         [ 46,  66,  88],\n",
       "         [ 49,  77, 105],\n",
       "         ...,\n",
       "         [ 27,  52,  77],\n",
       "         [ 21,  43,  66],\n",
       "         [ 12,  31,  50]]],\n",
       "\n",
       "\n",
       "       [[[189, 211, 240],\n",
       "         [186, 208, 236],\n",
       "         [185, 207, 235],\n",
       "         ...,\n",
       "         [175, 195, 224],\n",
       "         [172, 194, 222],\n",
       "         [169, 194, 220]],\n",
       "\n",
       "        [[194, 210, 239],\n",
       "         [191, 207, 236],\n",
       "         [190, 206, 235],\n",
       "         ...,\n",
       "         [173, 192, 220],\n",
       "         [171, 191, 218],\n",
       "         [167, 190, 216]],\n",
       "\n",
       "        [[208, 219, 244],\n",
       "         [205, 216, 240],\n",
       "         [204, 215, 239],\n",
       "         ...,\n",
       "         [175, 191, 217],\n",
       "         [172, 190, 216],\n",
       "         [169, 191, 215]],\n",
       "\n",
       "        ...,\n",
       "\n",
       "        [[207, 199, 181],\n",
       "         [203, 195, 175],\n",
       "         [203, 196, 173],\n",
       "         ...,\n",
       "         [135, 132, 127],\n",
       "         [162, 158, 150],\n",
       "         [168, 163, 151]],\n",
       "\n",
       "        [[198, 190, 170],\n",
       "         [189, 181, 159],\n",
       "         [180, 172, 147],\n",
       "         ...,\n",
       "         [178, 171, 160],\n",
       "         [175, 169, 156],\n",
       "         [175, 169, 154]],\n",
       "\n",
       "        [[198, 189, 173],\n",
       "         [189, 181, 162],\n",
       "         [178, 170, 149],\n",
       "         ...,\n",
       "         [195, 184, 169],\n",
       "         [196, 189, 171],\n",
       "         [195, 190, 171]]],\n",
       "\n",
       "\n",
       "       [[[229, 229, 239],\n",
       "         [236, 237, 247],\n",
       "         [234, 236, 247],\n",
       "         ...,\n",
       "         [217, 219, 233],\n",
       "         [221, 223, 234],\n",
       "         [222, 223, 233]],\n",
       "\n",
       "        [[222, 221, 229],\n",
       "         [239, 239, 249],\n",
       "         [233, 234, 246],\n",
       "         ...,\n",
       "         [223, 223, 236],\n",
       "         [227, 228, 238],\n",
       "         [210, 211, 220]],\n",
       "\n",
       "        [[213, 206, 211],\n",
       "         [234, 232, 239],\n",
       "         [231, 233, 244],\n",
       "         ...,\n",
       "         [220, 220, 232],\n",
       "         [220, 219, 232],\n",
       "         [202, 203, 215]],\n",
       "\n",
       "        ...,\n",
       "\n",
       "        [[150, 143, 135],\n",
       "         [140, 135, 127],\n",
       "         [132, 127, 120],\n",
       "         ...,\n",
       "         [224, 222, 218],\n",
       "         [230, 228, 225],\n",
       "         [241, 241, 238]],\n",
       "\n",
       "        [[137, 132, 126],\n",
       "         [130, 127, 120],\n",
       "         [125, 121, 115],\n",
       "         ...,\n",
       "         [181, 180, 178],\n",
       "         [202, 201, 198],\n",
       "         [212, 211, 207]],\n",
       "\n",
       "        [[122, 119, 114],\n",
       "         [118, 116, 110],\n",
       "         [120, 116, 111],\n",
       "         ...,\n",
       "         [179, 177, 173],\n",
       "         [164, 164, 162],\n",
       "         [163, 163, 161]]]], dtype=uint8)"
      ]
     },
     "execution_count": 3,
     "metadata": {},
     "output_type": "execute_result"
    }
   ],
   "source": [
    "from tensorflow.keras.datasets import cifar10\n",
    "\n",
    "((trainX, trainY), (testX, testY)) = cifar10.load_data()\n",
    "trainX"
   ]
  },
  {
   "cell_type": "code",
   "execution_count": 4,
   "metadata": {
    "id": "JUyqKNUzfSBY"
   },
   "outputs": [],
   "source": [
    "trainY=trainY.reshape(len(trainY))\n",
    "testY=testY.reshape(len(testY))"
   ]
  },
  {
   "cell_type": "code",
   "execution_count": 5,
   "metadata": {
    "colab": {
     "base_uri": "https://localhost:8080/"
    },
    "id": "DvMzDfxI25QR",
    "outputId": "40c4b21d-44a4-4fdb-f3cf-6e0da4273589"
   },
   "outputs": [
    {
     "data": {
      "text/plain": [
       "(50000, 32, 32, 3)"
      ]
     },
     "execution_count": 5,
     "metadata": {},
     "output_type": "execute_result"
    }
   ],
   "source": [
    "trainX.transpose(0,2,3,1)\n",
    "trainX.shape"
   ]
  },
  {
   "cell_type": "markdown",
   "metadata": {},
   "source": [
    "# Q2"
   ]
  },
  {
   "cell_type": "code",
   "execution_count": 6,
   "metadata": {
    "id": "PBJD7rzLLrlr"
   },
   "outputs": [],
   "source": [
    "def rotation(image):\n",
    "    \n",
    "    theta=math.radians(random.randint(0,360))\n",
    "    height=image.shape[0]                                   \n",
    "    width=image.shape[1] \n",
    "\n",
    "    rotated = np.zeros((height,width,3))\n",
    "    \n",
    "    centre_h=round(((height+1)/2)-1)\n",
    "    centre_w=round(((width+1)/2)-1)\n",
    "\n",
    "    \n",
    "    for i in range(32):\n",
    "        for j in range(32):\n",
    "            x=height-1-(i+centre_h)                   \n",
    "            y=width-1-(j+centre_w)                      \n",
    "\n",
    "            new_x=round(-y*math.sin(theta)+x*math.cos(theta))\n",
    "            new_y=round(y*math.cos(theta)+x*math.sin(theta))\n",
    "\n",
    "            new_x=centre_h-new_x\n",
    "            new_y=centre_w-new_y\n",
    "\n",
    "            if 0 <= new_y < width and 0 <= new_x < height and new_x>=0 and new_y>=0:\n",
    "                rotated[new_x,new_y,:]=image[i,j,:]                          \n",
    "    \n",
    "    return (rotated).astype(np.uint8)"
   ]
  },
  {
   "cell_type": "code",
   "execution_count": 7,
   "metadata": {
    "colab": {
     "base_uri": "https://localhost:8080/",
     "height": 283
    },
    "id": "SgKHW4lB3Geo",
    "outputId": "542188c2-1750-47a9-bbe5-7d87b356ce09"
   },
   "outputs": [
    {
     "data": {
      "text/plain": [
       "<matplotlib.image.AxesImage at 0x1d36a231cd0>"
      ]
     },
     "execution_count": 7,
     "metadata": {},
     "output_type": "execute_result"
    },
    {
     "data": {
      "image/png": "[encoded data removed]",
      "text/plain": [
       "<Figure size 432x288 with 1 Axes>"
      ]
     },
     "metadata": {
      "needs_background": "light"
     },
     "output_type": "display_data"
    }
   ],
   "source": [
    "img1=trainX[22]\n",
    "\n",
    "def random_crop(img1):\n",
    "    plt.imshow(img1)\n",
    "    pad1=np.zeros((32,2,3))\n",
    "    pad2=np.zeros((2,36,3))\n",
    "    newimg=np.concatenate((pad1,img1,pad1),axis=1)\n",
    "    newimg=np.concatenate((pad2,newimg,pad2),axis=0)\n",
    "    x=np.random.randint(0,3)\n",
    "    y=np.random.randint(0,3)\n",
    "    cropped=newimg[x:x+32]\n",
    "    _,cropped,_=np.split(cropped,[y,y+32],axis=1)\n",
    "    return cropped/255\n",
    "\n",
    "crop=random_crop(img1)\n",
    "plt.imshow(crop)"
   ]
  },
  {
   "cell_type": "code",
   "execution_count": 8,
   "metadata": {
    "colab": {
     "base_uri": "https://localhost:8080/",
     "height": 283
    },
    "id": "zEOdlg-v3glH",
    "outputId": "186e960e-2018-4234-a905-24adf132174f"
   },
   "outputs": [
    {
     "data": {
      "text/plain": [
       "<matplotlib.image.AxesImage at 0x1d30254d2b0>"
      ]
     },
     "execution_count": 8,
     "metadata": {},
     "output_type": "execute_result"
    },
    {
     "data": {
      "image/png": "[encoded data removed]",
      "text/plain": [
       "<Figure size 432x288 with 1 Axes>"
      ]
     },
     "metadata": {
      "needs_background": "light"
     },
     "output_type": "display_data"
    }
   ],
   "source": [
    "def random_cutout(img2):\n",
    "    xx=np.random.randint(0,16)\n",
    "    yy=np.random.randint(0,16)\n",
    "\n",
    "    for i in range(16):\n",
    "        for j in range(16):\n",
    "            img2[xx+i][yy+j]=np.array([0,0,0])\n",
    "    return img2/255\n",
    "\n",
    "img2=trainX[24]\n",
    "cutout=random_cutout(img2)\n",
    "plt.imshow(cutout)"
   ]
  },
  {
   "cell_type": "code",
   "execution_count": 9,
   "metadata": {
    "colab": {
     "base_uri": "https://localhost:8080/",
     "height": 283
    },
    "id": "qk2b5eMO3_6k",
    "outputId": "827e83a4-c770-4f23-e5b8-1e62384c367f"
   },
   "outputs": [
    {
     "data": {
      "text/plain": [
       "<matplotlib.image.AxesImage at 0x1d3025c0100>"
      ]
     },
     "execution_count": 9,
     "metadata": {},
     "output_type": "execute_result"
    },
    {
     "data": {
      "image/png": "[encoded data removed]",
      "text/plain": [
       "<Figure size 432x288 with 1 Axes>"
      ]
     },
     "metadata": {
      "needs_background": "light"
     },
     "output_type": "display_data"
    }
   ],
   "source": [
    "def flipped(img4):\n",
    "    \n",
    "    alpha=np.random.random()*1.5+0.5\n",
    "    img4=(img4-128/255)*alpha+128/255\n",
    "    img4=np.clip(img4,0,255)\n",
    "    prob=np.random.randint(2)\n",
    "    if(prob):\n",
    "        img4=np.fliplr(img4)\n",
    "\n",
    "    return img4/255\n",
    "\n",
    "img4=trainX[50]\n",
    "plt.imshow(img4)"
   ]
  },
  {
   "cell_type": "code",
   "execution_count": 10,
   "metadata": {
    "colab": {
     "base_uri": "https://localhost:8080/",
     "height": 283
    },
    "id": "CRjx45pm4Hk2",
    "outputId": "4c77e54d-f850-4ee0-a798-bbbfabf9a978"
   },
   "outputs": [
    {
     "data": {
      "text/plain": [
       "<matplotlib.image.AxesImage at 0x1d302620730>"
      ]
     },
     "execution_count": 10,
     "metadata": {},
     "output_type": "execute_result"
    },
    {
     "data": {
      "image/png": "[encoded data removed]",
      "text/plain": [
       "<Figure size 432x288 with 1 Axes>"
      ]
     },
     "metadata": {
      "needs_background": "light"
     },
     "output_type": "display_data"
    }
   ],
   "source": [
    "#With contrast and flip\n",
    "flip=flipped(img4)\n",
    "plt.imshow(flip)"
   ]
  },
  {
   "cell_type": "markdown",
   "metadata": {},
   "source": [
    "# Q3"
   ]
  },
  {
   "cell_type": "code",
   "execution_count": null,
   "metadata": {
    "colab": {
     "base_uri": "https://localhost:8080/",
     "height": 266
    },
    "id": "BPWfQkkKKLCi",
    "outputId": "ed18093b-4f05-4e0f-e632-152dff5fcb2d"
   },
   "outputs": [
    {
     "data": {
      "image/png": "[encoded data removed]",
      "text/plain": [
       "<Figure size 432x288 with 1 Axes>"
      ]
     },
     "metadata": {
      "needs_background": "light"
     },
     "output_type": "display_data"
    }
   ],
   "source": [
    "augdata=trainX.copy()\n",
    "c=[]\n",
    "for i in range(50000):\n",
    "  rand=np.random.randint(4)\n",
    "  if(rand==0):\n",
    "    ig=rotation(trainX[i])\n",
    "  elif(rand==1):\n",
    "    ig=random_crop(trainX[i])\n",
    "  elif(rand==2):\n",
    "    ig=random_cutout(trainX[i])\n",
    "  else:\n",
    "    ig=flipped(trainX[i])\n",
    "  c.append(ig)\n",
    "\n",
    "\n",
    "aug=np.array(c)\n",
    "augdata=np.concatenate((augdata,aug))\n",
    "augdata.shape"
   ]
  },
  {
   "cell_type": "markdown",
   "metadata": {},
   "source": [
    "# Q4"
   ]
  },
  {
   "cell_type": "code",
   "execution_count": 12,
   "metadata": {
    "id": "fvczoxZb4Qac"
   },
   "outputs": [],
   "source": [
    "from feature_extractor import *"
   ]
  },
  {
   "cell_type": "code",
   "execution_count": null,
   "metadata": {
    "colab": {
     "base_uri": "https://localhost:8080/",
     "height": 66,
     "referenced_widgets": [
      "3727850f8e1a4ba1a3b78e59b78e671d",
      "48a788424ae44642905d6c36e1275493",
      "c8c8ebb8ee4c414ab083043961e5fe84",
      "b0ce3b5cb302453bb1ccbfd2eb65faf4",
      "801e627a984c4b9285b42ae42512813c",
      "26aec8a1efba493aac3266e74d8d186a",
      "031e58e8fb0b448291246e07359e243d",
      "04a90fbe20f049678d2f94cff597e267",
      "dd36163c550b440284298540bd98a7c4",
      "14683156843544a5bd00e6ee9c1e5a5b",
      "0c77480cfba04042954a9bd1e0b18a1b"
     ]
    },
    "id": "w_EDGBZd_BWv",
    "outputId": "139a98c0-aa63-422e-88f0-9a75f5d75168"
   },
   "outputs": [
    {
     "name": "stderr",
     "output_type": "stream",
     "text": [
      "Downloading: \"https://download.pytorch.org/models/resnet18-f37072fd.pth\" to /root/.cache/torch/hub/checkpoints/resnet18-f37072fd.pth\n"
     ]
    },
    {
     "data": {
      "application/vnd.jupyter.widget-view+json": {
       "model_id": "3727850f8e1a4ba1a3b78e59b78e671d",
       "version_major": 2,
       "version_minor": 0
      },
      "text/plain": [
       "  0%|          | 0.00/44.7M [00:00<?, ?B/s]"
      ]
     },
     "metadata": {},
     "output_type": "display_data"
    }
   ],
   "source": [
    "import cv2\n",
    "\n",
    "featex=BBResNet18()\n",
    "\n",
    "def resize(img5):\n",
    "\n",
    "  img5=img5.astype(\"float32\")/255\n",
    "  bb=cv2.resize(img5,(224,224))\n",
    "  bb=bb[:,:,:,np.newaxis].transpose(3,2,0,1)\n",
    "  aa=featex.feature_extraction(bb)\n",
    "  return aa[0]\n",
    "\n",
    "\n"
   ]
  },
  {
   "cell_type": "code",
   "execution_count": null,
   "metadata": {
    "id": "qGawBSiLc-kQ"
   },
   "outputs": [],
   "source": [
    "features1a=[]\n",
    "for xx in range(len(trainX)):\n",
    "\n",
    "  out1=resize(trainX[xx])\n",
    "  features1a.append(out1)\n",
    "#   print(xx)\n",
    "\n",
    "# input\n",
    "features1a=pd.DataFrame(features1a)\n",
    "features1a"
   ]
  },
  {
   "cell_type": "code",
   "execution_count": null,
   "metadata": {
    "id": "2M0AMmZGysbS"
   },
   "outputs": [],
   "source": [
    "features1a.to_csv(\"1.csv\",index=False)"
   ]
  },
  {
   "cell_type": "code",
   "execution_count": null,
   "metadata": {
    "id": "LmS8tcr3qw2Y"
   },
   "outputs": [],
   "source": [
    "features2=[]\n",
    "\n",
    "for xx in range(50000,len(augdata)):\n",
    "\n",
    "  out2=resize(augdata[xx])\n",
    "  features2.append(out2)\n",
    "#   print(xx)\n"
   ]
  },
  {
   "cell_type": "code",
   "execution_count": null,
   "metadata": {
    "id": "vWipLMYi7N9q"
   },
   "outputs": [],
   "source": [
    "features2b=pd.DataFrame(features2)\n",
    "\n",
    "features2=pd.concat([features1a,features2b])\n",
    "features2.to_csv(\"2.csv\",index=False)"
   ]
  },
  {
   "cell_type": "code",
   "execution_count": null,
   "metadata": {
    "id": "uW0GhGLKqxkU"
   },
   "outputs": [],
   "source": [
    "features3=[]\n",
    "for xx in range(len(testX)):\n",
    "\n",
    "  out3=resize(testX[xx])\n",
    "  features3.append(out3)\n",
    "#   print(xx)\n"
   ]
  },
  {
   "cell_type": "code",
   "execution_count": null,
   "metadata": {
    "id": "Gw3k98kk-Dc0"
   },
   "outputs": [],
   "source": [
    "features3=pd.DataFrame(features3)\n",
    "features3.to_csv(\"3.csv\",index=False)"
   ]
  },
  {
   "cell_type": "code",
   "execution_count": 13,
   "metadata": {
    "id": "Z9jgkb6c_MZ3"
   },
   "outputs": [],
   "source": [
    "Xtr=pd.read_csv(\"1.csv\")\n",
    "Xaug=pd.read_csv(\"2.csv\").reset_index(drop=True)\n",
    "Xtest=pd.read_csv(\"3.csv\")"
   ]
  },
  {
   "cell_type": "code",
   "execution_count": 14,
   "metadata": {
    "id": "crK1o5oz_9dJ"
   },
   "outputs": [],
   "source": [
    "newy=np.zeros((trainY.size,10))\n",
    "newy[np.arange(trainY.size),trainY]=1\n",
    "\n",
    "testy=np.zeros((testY.size,10))\n",
    "testy[np.arange(testY.size),testY]=1\n",
    "\n",
    "Ytr=newy\n",
    "Yaug=np.concatenate((newy,newy))\n",
    "Ytest=testy"
   ]
  },
  {
   "cell_type": "markdown",
   "metadata": {},
   "source": [
    "# Q5"
   ]
  },
  {
   "cell_type": "code",
   "execution_count": 15,
   "metadata": {
    "id": "9_pmSFyhsRvL"
   },
   "outputs": [],
   "source": [
    "def relu(x):\n",
    "  x[x<=0]=0\n",
    "  return x\n",
    "\n",
    "\n",
    "def softmax(vector):\n",
    "\n",
    "    ex=np.exp(vector)\n",
    "    return ex/np.sum(ex,axis=1).reshape(len(vector),1)\n",
    "\n",
    "def forwardpass(X1,W1,W2,b1,b2):\n",
    "\n",
    "  Z1=np.dot(X1,W1)+b1\n",
    "  A1=relu(Z1)\n",
    "  Z2=np.dot(A1,W2)+b2\n",
    "  A2=softmax(Z2)\n",
    "  # print(A2)\n",
    "\n",
    "  cache={\"Z1\":Z1,\"A1\":A1,\"Z2\":Z2,\"A2\":A2}\n",
    "\n",
    "  return A2,cache\n"
   ]
  },
  {
   "cell_type": "markdown",
   "metadata": {},
   "source": [
    "# Q6 and Q7"
   ]
  },
  {
   "cell_type": "code",
   "execution_count": 16,
   "metadata": {
    "id": "SnW7c0oX6awx"
   },
   "outputs": [],
   "source": [
    "def crossentropy(y,ypred):\n",
    "  l=y.shape[0]\n",
    "\n",
    "  loss=-(1/l)*np.sum(y*np.log(ypred) )\n",
    "\n",
    "  return loss"
   ]
  },
  {
   "cell_type": "code",
   "execution_count": 26,
   "metadata": {
    "id": "31uAAS5xOLBl"
   },
   "outputs": [],
   "source": [
    "def backwardpass(cache,W1,W2,b1,b2,X,Y,lr=0.02):\n",
    "  A1=cache['A1']\n",
    "  A2=cache['A2']\n",
    "  Z1=cache['Z1']\n",
    "\n",
    "  Z1[Z1<=0]=0\n",
    "  Z1[Z1>0]=1\n",
    "  \n",
    "  dZ2=A2-Y\n",
    "  \n",
    "  l=len(X)\n",
    "  \n",
    "  dW2= (1/l)*np.dot(A1.T,dZ2)\n",
    "  db2=(1/l)*np.sum(dZ2,axis=0)\n",
    "\n",
    "  dZ1=np.multiply(Z1,np.dot(dZ2,W2.T))\n",
    "  dW1=(1/l)*np.dot(X.T,dZ1)\n",
    "  db1=(1/l)*np.sum(dZ1,axis=0)\n",
    "\n",
    "  W1 = W1-lr*dW1\n",
    "  W2 = W2-lr*dW2\n",
    "\n",
    "  b1 = b1-lr*db1\n",
    "  b2 = b2-lr*db2\n",
    "\n",
    "  return W1,W2,b1,b2"
   ]
  },
  {
   "cell_type": "code",
   "execution_count": 50,
   "metadata": {
    "id": "fm12vMmKLVW0"
   },
   "outputs": [],
   "source": [
    "def NNmodel(X,Y,W1,W2,b1,b2,batchsize=200,lr=0.02):\n",
    "  maincache=[]\n",
    "  pred=[]\n",
    "  numofbatches=int(len(X)/batchsize)\n",
    "  losses=[]\n",
    "  for i in range(numofbatches):\n",
    "\n",
    "    batch=X.loc[batchsize*i:batchsize*(i+1)-1].astype(\"float64\")\n",
    "\n",
    "    label=Y[batchsize*i:batchsize*(i+1)].astype(\"float64\")\n",
    "\n",
    "    out,cache=forwardpass(batch, W1,W2,b1,b2)\n",
    "\n",
    "    W1,W2,b1,b2=backwardpass(cache,W1,W2,b1,b2,batch,label,lr=0.02)\n",
    "\n",
    "\n",
    "    #if(i%100==0): \n",
    "    losses.append(crossentropy(label,out))\n",
    "\n",
    "  loss=sum(losses)/len(losses)\n",
    "  print(\"Loss:\",loss)\n",
    "\n",
    "\n",
    "  return W1,W2,b1,b2,loss\n",
    "\n"
   ]
  },
  {
   "cell_type": "code",
   "execution_count": 51,
   "metadata": {
    "id": "6CCd6nxk7Whn"
   },
   "outputs": [],
   "source": [
    "def trainmodel(X,Y,epochs=50,batchsize=200,lr=0.02):\n",
    "    dim1=512\n",
    "    dim2=64\n",
    "    dim3=10\n",
    "    W1=np.random.random((dim1,dim2))*0.001\n",
    "    W2=np.random.random((dim2,dim3))*0.001\n",
    "    b1=np.random.random((dim2,))*0.001\n",
    "    b2=np.random.random((dim3,))*0.001\n",
    "\n",
    "    losss=[]\n",
    "    for epoch in range(epochs):\n",
    "        W1,W2,b1,b2,loss=NNmodel(X,Y,W1,W2,b1,b2,batchsize,lr)\n",
    "        losss.append(loss)\n",
    "\n",
    "    return W1,W2,b1,b2,losss\n",
    "\n",
    "def accuracy(y,ypred):\n",
    "\n",
    "  acc = np.sum(np.equal(y, ypred)) / len(y)\n",
    "  return acc\n",
    "\n"
   ]
  },
  {
   "cell_type": "code",
   "execution_count": 52,
   "metadata": {
    "id": "Mx2r8iElB1Ra"
   },
   "outputs": [
    {
     "name": "stdout",
     "output_type": "stream",
     "text": [
      "Loss: 2.302800229563441\n",
      "Loss: 2.28754990282616\n",
      "Loss: 2.136990964550078\n",
      "Loss: 1.9581220304859985\n",
      "Loss: 1.8289289443044094\n",
      "Loss: 1.716918032789374\n",
      "Loss: 1.6105303760385774\n",
      "Loss: 1.5135152164518186\n",
      "Loss: 1.4319997970957599\n",
      "Loss: 1.367855417268941\n",
      "Loss: 1.3185849538686374\n",
      "Loss: 1.279987433107818\n",
      "Loss: 1.248661346703696\n",
      "Loss: 1.2222674781305585\n",
      "Loss: 1.1991938366009425\n",
      "Loss: 1.1784869977370964\n",
      "Loss: 1.1593340565190506\n",
      "Loss: 1.1412252494700224\n",
      "Loss: 1.1238315882949417\n",
      "Loss: 1.1070989796267883\n",
      "Loss: 1.091076043711451\n",
      "Loss: 1.0758221885771966\n",
      "Loss: 1.0615314242956035\n",
      "Loss: 1.048181144022055\n",
      "Loss: 1.0357735851011467\n",
      "Loss: 1.0243566955362\n",
      "Loss: 1.0137179953288964\n",
      "Loss: 1.003825410857051\n",
      "Loss: 0.9946276302697413\n",
      "Loss: 0.9860190475901671\n",
      "Loss: 0.9779197038973202\n",
      "Loss: 0.9702804842350651\n",
      "Loss: 0.9630544701941621\n",
      "Loss: 0.9562142740384396\n",
      "Loss: 0.9497397131696346\n",
      "Loss: 0.9435967059373628\n",
      "Loss: 0.9377505481224004\n",
      "Loss: 0.9322069086129215\n",
      "Loss: 0.9269269755363326\n",
      "Loss: 0.9219149524025116\n",
      "Loss: 0.9171384661228781\n",
      "Loss: 0.9125793972330093\n",
      "Loss: 0.9082134052796234\n",
      "Loss: 0.9040232108114016\n",
      "Loss: 0.900003345242993\n",
      "Loss: 0.8961479534799907\n",
      "Loss: 0.8924622642459102\n",
      "Loss: 0.8889246573027445\n",
      "Loss: 0.885521336349106\n",
      "Loss: 0.8822505270087457\n"
     ]
    }
   ],
   "source": [
    "#Training on non augmented data\n",
    "\n",
    "xtr1=Xtr\n",
    "ytr1=Ytr\n",
    "epochs=50\n",
    "lr=0.02\n",
    "batchsize=200\n",
    "w1x,w2x,b1x,b2x,loss1=trainmodel(xtr1,ytr1,epochs,batchsize,lr)\n"
   ]
  },
  {
   "cell_type": "code",
   "execution_count": 39,
   "metadata": {
    "id": "hCPe6a8__lzs"
   },
   "outputs": [],
   "source": [
    "# Saving weights\n",
    "np.save(\"W1x\",w1x)\n",
    "np.save(\"W2x\",w2x)\n",
    "np.save(\"b1x\",b1x)\n",
    "np.save(\"b2x\",b2x)"
   ]
  },
  {
   "cell_type": "code",
   "execution_count": 40,
   "metadata": {},
   "outputs": [],
   "source": [
    "#Loading weights\n",
    "\n",
    "#Non aug data\n",
    "w1x=np.load(\"W1x.npy\")\n",
    "w2x=np.load(\"W2x.npy\")\n",
    "b1x=np.load(\"b1x.npy\")\n",
    "b2x=np.load(\"b2x.npy\")"
   ]
  },
  {
   "cell_type": "code",
   "execution_count": 41,
   "metadata": {
    "colab": {
     "base_uri": "https://localhost:8080/"
    },
    "id": "JFEzugOnCXYQ",
    "outputId": "7567c210-627e-4569-ae6d-497d839dbbcc"
   },
   "outputs": [
    {
     "data": {
      "text/plain": [
       "0.7404"
      ]
     },
     "execution_count": 41,
     "metadata": {},
     "output_type": "execute_result"
    }
   ],
   "source": [
    "#Accuracy on non aug data\n",
    "\n",
    "xtest1=Xtest\n",
    "ytest1=Ytest\n",
    "\n",
    "ypred1,_=forwardpass(xtest1,w1x,w2x,b1x,b2x)\n",
    "\n",
    "ypred1=np.argmax(ypred1, axis=1)\n",
    "ytest1=np.argmax(ytest1, axis=1)\n",
    "accuracy(ytest1,ypred1)\n"
   ]
  },
  {
   "cell_type": "code",
   "execution_count": 53,
   "metadata": {
    "colab": {
     "base_uri": "https://localhost:8080/"
    },
    "id": "9mVsyHHtCItk",
    "outputId": "3a294eae-bd7c-4f8b-e4ee-4866cff30eb8"
   },
   "outputs": [
    {
     "name": "stdout",
     "output_type": "stream",
     "text": [
      "Loss: 2.3027319295829063\n",
      "Loss: 2.2832372044290916\n",
      "Loss: 2.1822957412052024\n",
      "Loss: 2.104429285790641\n",
      "Loss: 2.037727897806312\n",
      "Loss: 1.9678044554370913\n",
      "Loss: 1.9040880635002957\n",
      "Loss: 1.8542907674945375\n",
      "Loss: 1.8157059470755041\n",
      "Loss: 1.7852658448431151\n",
      "Loss: 1.7605065890025418\n",
      "Loss: 1.7395847505372708\n",
      "Loss: 1.7212690447685097\n",
      "Loss: 1.7048005058143498\n",
      "Loss: 1.689816238925467\n",
      "Loss: 1.6762037449294844\n",
      "Loss: 1.6638711931807602\n",
      "Loss: 1.6526899256800431\n",
      "Loss: 1.6425681480712406\n",
      "Loss: 1.6333772012367545\n",
      "Loss: 1.625038015021213\n",
      "Loss: 1.6174221166441822\n",
      "Loss: 1.610471814505885\n",
      "Loss: 1.6041177131904976\n",
      "Loss: 1.5982827161927124\n",
      "Loss: 1.592907449657982\n",
      "Loss: 1.5879350619037682\n",
      "Loss: 1.5833169488079688\n",
      "Loss: 1.579017093473401\n",
      "Loss: 1.575002597909233\n",
      "Loss: 1.571237362305776\n",
      "Loss: 1.5676900882990523\n",
      "Loss: 1.5643487384346082\n",
      "Loss: 1.5611997286278858\n",
      "Loss: 1.5582208290256925\n",
      "Loss: 1.5553911694488798\n",
      "Loss: 1.5527087255127512\n",
      "Loss: 1.5501578203218023\n",
      "Loss: 1.5477276004745817\n",
      "Loss: 1.5454147708822472\n",
      "Loss: 1.5431958213100252\n",
      "Loss: 1.5410705991211346\n",
      "Loss: 1.5390351383088539\n",
      "Loss: 1.5370829422949441\n",
      "Loss: 1.535207524884735\n",
      "Loss: 1.5334010296037255\n",
      "Loss: 1.5316636941450064\n",
      "Loss: 1.529990887237578\n",
      "Loss: 1.528372209725506\n",
      "Loss: 1.5268006065893456\n"
     ]
    }
   ],
   "source": [
    "#Training on augmented data\n",
    "\n",
    "xtr2=Xaug\n",
    "ytr2=Yaug\n",
    "w1y,w2y,b1y,b2y,loss2=trainmodel(xtr2,ytr2)\n"
   ]
  },
  {
   "cell_type": "code",
   "execution_count": 43,
   "metadata": {
    "id": "Andw8sTnKMzM"
   },
   "outputs": [],
   "source": [
    "#Saving weights\n",
    "\n",
    "np.save(\"W1y\",w1y)\n",
    "np.save(\"W2y\",w2y)\n",
    "np.save(\"b1y\",b1y)\n",
    "np.save(\"b2y\",b2y)"
   ]
  },
  {
   "cell_type": "code",
   "execution_count": 44,
   "metadata": {},
   "outputs": [],
   "source": [
    "#Loading weights\n",
    "\n",
    "#Aug data\n",
    "w1y=np.load(\"W1y.npy\")\n",
    "w2y=np.load(\"W2y.npy\")\n",
    "b1y=np.load(\"b1y.npy\")\n",
    "b2y=np.load(\"b2y.npy\")"
   ]
  },
  {
   "cell_type": "code",
   "execution_count": 45,
   "metadata": {
    "colab": {
     "base_uri": "https://localhost:8080/"
    },
    "id": "mhRdGaMuFb9J",
    "outputId": "9d239f78-90f6-4d73-f9cf-be7f73e2c195"
   },
   "outputs": [
    {
     "data": {
      "text/plain": [
       "0.7175"
      ]
     },
     "execution_count": 45,
     "metadata": {},
     "output_type": "execute_result"
    }
   ],
   "source": [
    "#Accuracy on non aug data\n",
    "\n",
    "xtest2=Xtest\n",
    "ytest2=Ytest\n",
    "\n",
    "ypred2,_=forwardpass(xtest2,w1y,w2y,b1y,b2y)\n",
    "\n",
    "ypred2=np.argmax(ypred2, axis=1)\n",
    "ytest2=np.argmax(ytest2, axis=1)\n",
    "accuracy(ytest2,ypred2)\n"
   ]
  },
  {
   "cell_type": "code",
   "execution_count": 49,
   "metadata": {},
   "outputs": [
    {
     "name": "stdout",
     "output_type": "stream",
     "text": [
      "              precision    recall  f1-score   support\n",
      "\n",
      "           0       0.81      0.74      0.77      1000\n",
      "           1       0.84      0.85      0.85      1000\n",
      "           2       0.70      0.52      0.59      1000\n",
      "           3       0.53      0.64      0.58      1000\n",
      "           4       0.71      0.68      0.70      1000\n",
      "           5       0.71      0.64      0.67      1000\n",
      "           6       0.74      0.84      0.79      1000\n",
      "           7       0.77      0.79      0.78      1000\n",
      "           8       0.77      0.86      0.82      1000\n",
      "           9       0.84      0.84      0.84      1000\n",
      "\n",
      "    accuracy                           0.74     10000\n",
      "   macro avg       0.74      0.74      0.74     10000\n",
      "weighted avg       0.74      0.74      0.74     10000\n",
      "\n"
     ]
    }
   ],
   "source": [
    "from sklearn.metrics import classification_report\n",
    "\n",
    "print(classification_report(ytest1,ypred1))"
   ]
  },
  {
   "cell_type": "code",
   "execution_count": 48,
   "metadata": {
    "id": "a_DSYKLxrU9S"
   },
   "outputs": [
    {
     "name": "stdout",
     "output_type": "stream",
     "text": [
      "              precision    recall  f1-score   support\n",
      "\n",
      "           0       0.88      0.65      0.75      1000\n",
      "           1       0.65      0.93      0.77      1000\n",
      "           2       0.78      0.48      0.60      1000\n",
      "           3       0.58      0.54      0.56      1000\n",
      "           4       0.72      0.63      0.67      1000\n",
      "           5       0.61      0.72      0.66      1000\n",
      "           6       0.76      0.83      0.79      1000\n",
      "           7       0.66      0.84      0.74      1000\n",
      "           8       0.79      0.80      0.79      1000\n",
      "           9       0.86      0.76      0.81      1000\n",
      "\n",
      "    accuracy                           0.72     10000\n",
      "   macro avg       0.73      0.72      0.71     10000\n",
      "weighted avg       0.73      0.72      0.71     10000\n",
      "\n"
     ]
    }
   ],
   "source": [
    "print(classification_report(ytest2,ypred2))"
   ]
  },
  {
   "cell_type": "code",
   "execution_count": 60,
   "metadata": {},
   "outputs": [
    {
     "data": {
      "text/plain": [
       "[<matplotlib.lines.Line2D at 0x1d3258882e0>]"
      ]
     },
     "execution_count": 60,
     "metadata": {},
     "output_type": "execute_result"
    },
    {
     "data": {
      "image/png": "[encoded data removed]",
      "text/plain": [
       "<Figure size 432x288 with 1 Axes>"
      ]
     },
     "metadata": {
      "needs_background": "light"
     },
     "output_type": "display_data"
    }
   ],
   "source": [
    "# Loss vs epochs graph of model 1(\"Blue\") and model 2(\"Orange\")\n",
    "plt.plot(range(epochs),loss1)\n",
    "plt.plot(range(epochs),loss2)"
   ]
  },
  {
   "cell_type": "code",
   "execution_count": null,
   "metadata": {},
   "outputs": [],
   "source": []
  }
 ],
 "metadata": {
  "colab": {
   "collapsed_sections": [],
   "name": "DL A1.ipynb",
   "provenance": []
  },
  "kernelspec": {
   "display_name": "Python 3 (ipykernel)",
   "language": "python",
   "name": "python3"
  },
  "language_info": {
   "codemirror_mode": {
    "name": "ipython",
    "version": 3
   },
   "file_extension": ".py",
   "mimetype": "text/x-python",
   "name": "python",
   "nbconvert_exporter": "python",
   "pygments_lexer": "ipython3",
   "version": "3.9.7"
  },
  "widgets": {
   "application/vnd.jupyter.widget-state+json": {
    "031e58e8fb0b448291246e07359e243d": {
     "model_module": "@jupyter-widgets/base",
     "model_module_version": "1.2.0",
     "model_name": "LayoutModel",
     "state": {
      "_model_module": "@jupyter-widgets/base",
      "_model_module_version": "1.2.0",
      "_model_name": "LayoutModel",
      "_view_count": null,
      "_view_module": "@jupyter-widgets/base",
      "_view_module_version": "1.2.0",
      "_view_name": "LayoutView",
      "align_content": null,
      "align_items": null,
      "align_self": null,
      "border": null,
      "bottom": null,
      "display": null,
      "flex": null,
      "flex_flow": null,
      "grid_area": null,
      "grid_auto_columns": null,
      "grid_auto_flow": null,
      "grid_auto_rows": null,
      "grid_column": null,
      "grid_gap": null,
      "grid_row": null,
      "grid_template_areas": null,
      "grid_template_columns": null,
      "grid_template_rows": null,
      "height": null,
      "justify_content": null,
      "justify_items": null,
      "left": null,
      "margin": null,
      "max_height": null,
      "max_width": null,
      "min_height": null,
      "min_width": null,
      "object_fit": null,
      "object_position": null,
      "order": null,
      "overflow": null,
      "overflow_x": null,
      "overflow_y": null,
      "padding": null,
      "right": null,
      "top": null,
      "visibility": null,
      "width": null
     }
    },
    "04a90fbe20f049678d2f94cff597e267": {
     "model_module": "@jupyter-widgets/controls",
     "model_module_version": "1.5.0",
     "model_name": "ProgressStyleModel",
     "state": {
      "_model_module": "@jupyter-widgets/controls",
      "_model_module_version": "1.5.0",
      "_model_name": "ProgressStyleModel",
      "_view_count": null,
      "_view_module": "@jupyter-widgets/base",
      "_view_module_version": "1.2.0",
      "_view_name": "StyleView",
      "bar_color": null,
      "description_width": ""
     }
    },
    "0c77480cfba04042954a9bd1e0b18a1b": {
     "model_module": "@jupyter-widgets/base",
     "model_module_version": "1.2.0",
     "model_name": "LayoutModel",
     "state": {
      "_model_module": "@jupyter-widgets/base",
      "_model_module_version": "1.2.0",
      "_model_name": "LayoutModel",
      "_view_count": null,
      "_view_module": "@jupyter-widgets/base",
      "_view_module_version": "1.2.0",
      "_view_name": "LayoutView",
      "align_content": null,
      "align_items": null,
      "align_self": null,
      "border": null,
      "bottom": null,
      "display": null,
      "flex": null,
      "flex_flow": null,
      "grid_area": null,
      "grid_auto_columns": null,
      "grid_auto_flow": null,
      "grid_auto_rows": null,
      "grid_column": null,
      "grid_gap": null,
      "grid_row": null,
      "grid_template_areas": null,
      "grid_template_columns": null,
      "grid_template_rows": null,
      "height": null,
      "justify_content": null,
      "justify_items": null,
      "left": null,
      "margin": null,
      "max_height": null,
      "max_width": null,
      "min_height": null,
      "min_width": null,
      "object_fit": null,
      "object_position": null,
      "order": null,
      "overflow": null,
      "overflow_x": null,
      "overflow_y": null,
      "padding": null,
      "right": null,
      "top": null,
      "visibility": null,
      "width": null
     }
    },
    "14683156843544a5bd00e6ee9c1e5a5b": {
     "model_module": "@jupyter-widgets/controls",
     "model_module_version": "1.5.0",
     "model_name": "DescriptionStyleModel",
     "state": {
      "_model_module": "@jupyter-widgets/controls",
      "_model_module_version": "1.5.0",
      "_model_name": "DescriptionStyleModel",
      "_view_count": null,
      "_view_module": "@jupyter-widgets/base",
      "_view_module_version": "1.2.0",
      "_view_name": "StyleView",
      "description_width": ""
     }
    },
    "26aec8a1efba493aac3266e74d8d186a": {
     "model_module": "@jupyter-widgets/controls",
     "model_module_version": "1.5.0",
     "model_name": "DescriptionStyleModel",
     "state": {
      "_model_module": "@jupyter-widgets/controls",
      "_model_module_version": "1.5.0",
      "_model_name": "DescriptionStyleModel",
      "_view_count": null,
      "_view_module": "@jupyter-widgets/base",
      "_view_module_version": "1.2.0",
      "_view_name": "StyleView",
      "description_width": ""
     }
    },
    "3727850f8e1a4ba1a3b78e59b78e671d": {
     "model_module": "@jupyter-widgets/controls",
     "model_module_version": "1.5.0",
     "model_name": "HBoxModel",
     "state": {
      "_dom_classes": [],
      "_model_module": "@jupyter-widgets/controls",
      "_model_module_version": "1.5.0",
      "_model_name": "HBoxModel",
      "_view_count": null,
      "_view_module": "@jupyter-widgets/controls",
      "_view_module_version": "1.5.0",
      "_view_name": "HBoxView",
      "box_style": "",
      "children": [
       "IPY_MODEL_c8c8ebb8ee4c414ab083043961e5fe84",
       "IPY_MODEL_b0ce3b5cb302453bb1ccbfd2eb65faf4",
       "IPY_MODEL_801e627a984c4b9285b42ae42512813c"
      ],
      "layout": "IPY_MODEL_48a788424ae44642905d6c36e1275493"
     }
    },
    "48a788424ae44642905d6c36e1275493": {
     "model_module": "@jupyter-widgets/base",
     "model_module_version": "1.2.0",
     "model_name": "LayoutModel",
     "state": {
      "_model_module": "@jupyter-widgets/base",
      "_model_module_version": "1.2.0",
      "_model_name": "LayoutModel",
      "_view_count": null,
      "_view_module": "@jupyter-widgets/base",
      "_view_module_version": "1.2.0",
      "_view_name": "LayoutView",
      "align_content": null,
      "align_items": null,
      "align_self": null,
      "border": null,
      "bottom": null,
      "display": null,
      "flex": null,
      "flex_flow": null,
      "grid_area": null,
      "grid_auto_columns": null,
      "grid_auto_flow": null,
      "grid_auto_rows": null,
      "grid_column": null,
      "grid_gap": null,
      "grid_row": null,
      "grid_template_areas": null,
      "grid_template_columns": null,
      "grid_template_rows": null,
      "height": null,
      "justify_content": null,
      "justify_items": null,
      "left": null,
      "margin": null,
      "max_height": null,
      "max_width": null,
      "min_height": null,
      "min_width": null,
      "object_fit": null,
      "object_position": null,
      "order": null,
      "overflow": null,
      "overflow_x": null,
      "overflow_y": null,
      "padding": null,
      "right": null,
      "top": null,
      "visibility": null,
      "width": null
     }
    },
    "801e627a984c4b9285b42ae42512813c": {
     "model_module": "@jupyter-widgets/controls",
     "model_module_version": "1.5.0",
     "model_name": "HTMLModel",
     "state": {
      "_dom_classes": [],
      "_model_module": "@jupyter-widgets/controls",
      "_model_module_version": "1.5.0",
      "_model_name": "HTMLModel",
      "_view_count": null,
      "_view_module": "@jupyter-widgets/controls",
      "_view_module_version": "1.5.0",
      "_view_name": "HTMLView",
      "description": "",
      "description_tooltip": null,
      "layout": "IPY_MODEL_0c77480cfba04042954a9bd1e0b18a1b",
      "placeholder": "​",
      "style": "IPY_MODEL_14683156843544a5bd00e6ee9c1e5a5b",
      "value": " 44.7M/44.7M [00:00&lt;00:00, 84.0MB/s]"
     }
    },
    "b0ce3b5cb302453bb1ccbfd2eb65faf4": {
     "model_module": "@jupyter-widgets/controls",
     "model_module_version": "1.5.0",
     "model_name": "FloatProgressModel",
     "state": {
      "_dom_classes": [],
      "_model_module": "@jupyter-widgets/controls",
      "_model_module_version": "1.5.0",
      "_model_name": "FloatProgressModel",
      "_view_count": null,
      "_view_module": "@jupyter-widgets/controls",
      "_view_module_version": "1.5.0",
      "_view_name": "ProgressView",
      "bar_style": "success",
      "description": "",
      "description_tooltip": null,
      "layout": "IPY_MODEL_dd36163c550b440284298540bd98a7c4",
      "max": 46830571,
      "min": 0,
      "orientation": "horizontal",
      "style": "IPY_MODEL_04a90fbe20f049678d2f94cff597e267",
      "value": 46830571
     }
    },
    "c8c8ebb8ee4c414ab083043961e5fe84": {
     "model_module": "@jupyter-widgets/controls",
     "model_module_version": "1.5.0",
     "model_name": "HTMLModel",
     "state": {
      "_dom_classes": [],
      "_model_module": "@jupyter-widgets/controls",
      "_model_module_version": "1.5.0",
      "_model_name": "HTMLModel",
      "_view_count": null,
      "_view_module": "@jupyter-widgets/controls",
      "_view_module_version": "1.5.0",
      "_view_name": "HTMLView",
      "description": "",
      "description_tooltip": null,
      "layout": "IPY_MODEL_031e58e8fb0b448291246e07359e243d",
      "placeholder": "​",
      "style": "IPY_MODEL_26aec8a1efba493aac3266e74d8d186a",
      "value": "100%"
     }
    },
    "dd36163c550b440284298540bd98a7c4": {
     "model_module": "@jupyter-widgets/base",
     "model_module_version": "1.2.0",
     "model_name": "LayoutModel",
     "state": {
      "_model_module": "@jupyter-widgets/base",
      "_model_module_version": "1.2.0",
      "_model_name": "LayoutModel",
      "_view_count": null,
      "_view_module": "@jupyter-widgets/base",
      "_view_module_version": "1.2.0",
      "_view_name": "LayoutView",
      "align_content": null,
      "align_items": null,
      "align_self": null,
      "border": null,
      "bottom": null,
      "display": null,
      "flex": null,
      "flex_flow": null,
      "grid_area": null,
      "grid_auto_columns": null,
      "grid_auto_flow": null,
      "grid_auto_rows": null,
      "grid_column": null,
      "grid_gap": null,
      "grid_row": null,
      "grid_template_areas": null,
      "grid_template_columns": null,
      "grid_template_rows": null,
      "height": null,
      "justify_content": null,
      "justify_items": null,
      "left": null,
      "margin": null,
      "max_height": null,
      "max_width": null,
      "min_height": null,
      "min_width": null,
      "object_fit": null,
      "object_position": null,
      "order": null,
      "overflow": null,
      "overflow_x": null,
      "overflow_y": null,
      "padding": null,
      "right": null,
      "top": null,
      "visibility": null,
      "width": null
     }
    }
   }
  }
 },
 "nbformat": 4,
 "nbformat_minor": 1
}
